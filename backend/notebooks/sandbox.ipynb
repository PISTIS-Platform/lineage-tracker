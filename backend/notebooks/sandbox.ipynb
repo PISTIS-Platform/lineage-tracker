{
 "cells": [
  {
   "cell_type": "code",
   "execution_count": 13,
   "id": "42632b95",
   "metadata": {},
   "outputs": [],
   "source": [
    "from SPARQLWrapper import SPARQLWrapper, JSON, DIGEST\n",
    "import json\n",
    "import numpy as np\n",
    "sparql = SPARQLWrapper(\n",
    "    \"https://provenance-information-store.apps.osc.fokus.fraunhofer.de/sparql-auth\")\n",
    "sparql.setHTTPAuth('DIGEST')\n",
    "sparql.setCredentials('dba', 'dba')\n",
    "sparql.setReturnFormat(JSON)"
   ]
  },
  {
   "cell_type": "code",
   "execution_count": 3,
   "id": "1f0133b4",
   "metadata": {},
   "outputs": [],
   "source": [
    "import requests\n",
    "import json"
   ]
  },
  {
   "cell_type": "code",
   "execution_count": 4,
   "id": "49e69438",
   "metadata": {},
   "outputs": [],
   "source": [
    "access_token = 'eyJhbGciOiJSUzI1NiIsInR5cCIgOiAiSldUIiwia2lkIiA6ICJtUmNSTmJ1M1JEZ0szRUhLakE3TkZZZThlWTkzcnp2bm1rN1FoOW96ek9rIn0.eyJleHAiOjE2NzY5MDI0NTQsImlhdCI6MTY3Njg4MDg1NCwianRpIjoiZjliZDg2ZDEtYzBlNy00OTU1LTkwZTEtYjVjMWNlMmM0NjJiIiwiaXNzIjoiaHR0cDovL2tleWNsb2FrOjgwODAvYXV0aC9yZWFsbXMvWE1BTkFJIiwiYXVkIjoiYWNjb3VudCIsInN1YiI6ImJmYjQ2MGQ0LWU1MjctNDI2MC1hMWUwLWY4MmMxMTcxZTEyNyIsInR5cCI6IkJlYXJlciIsImF6cCI6IklBTSIsInNlc3Npb25fc3RhdGUiOiJkNTc2NTk3YS04YzUyLTRiN2MtOGViNS05OWE3N2JlYjVmY2MiLCJhY3IiOiIxIiwicmVhbG1fYWNjZXNzIjp7InJvbGVzIjpbImRlZmF1bHQtcm9sZXMteG1hbmFpIiwib2ZmbGluZV9hY2Nlc3MiLCJ1bWFfYXV0aG9yaXphdGlvbiJdfSwicmVzb3VyY2VfYWNjZXNzIjp7IklBTSI6eyJyb2xlcyI6WyJncm91cC11c2VyIl19LCJhY2NvdW50Ijp7InJvbGVzIjpbIm1hbmFnZS1hY2NvdW50IiwibWFuYWdlLWFjY291bnQtbGlua3MiLCJ2aWV3LXByb2ZpbGUiXX19LCJzY29wZSI6InByb2ZpbGUgZW1haWwiLCJzaWQiOiJkNTc2NTk3YS04YzUyLTRiN2MtOGViNS05OWE3N2JlYjVmY2MiLCJ3ZWJzaXRlIjoid3d3LmZva3VzLmZyYXVuaG9mZXIuZGUiLCJlbWFpbF92ZXJpZmllZCI6dHJ1ZSwiZ3JvdXAtbmFtZXMiOlsiZnJhdW5ob2ZlcmZva3VzIl0sInJvbGVzIjpbImdyb3VwLXVzZXIiXSwibmFtZSI6IkpvbmFzIEhldHRlcmljaCIsInByZWZlcnJlZF91c2VybmFtZSI6ImhqbyIsImdpdmVuX25hbWUiOiJKb25hcyIsImZhbWlseV9uYW1lIjoiSGV0dGVyaWNoIiwiZW1haWwiOiJqb25hcy5oZXR0ZXJpY2hAZm9rdXMuZnJhdW5ob2Zlci5kZSJ9.ar8tMSYLgNel1omtJMz_lMUtg93VlaED6Z1OXyKHQsXPGrVFVTsz9uUhr4lJi6FO_8HFU998JNjNMwcPtoYmGXtz2flDRwnDKQsEvXPx0INsHKWBefllkGS8mkALTQLm-QS4SG2uK6H_c6lgyQ0aZO6uta_4j4WcI3ms5P26BVtJzZDhyqrQfEsHEWxPt6ZzWpVqtRK4WiFPOJHEnQfwHGRAq94fV8-ez8n19vkkAgYh48NbCs_DQRYrAMxuRiIzHcnufY3KQEHyMXf42x8-zxailX3hug-e34TGmdN26YmFftqxm1j9b7aPyOeD39T0aM7uQCpUIZDRvtFBMhkdcQ'\n",
    "cookies = {\n",
    "    'access_token': access_token\n",
    "}\n",
    "\n",
    "headers = {\n",
    "    'Authorization': 'Bearer ' + access_token\n",
    "}"
   ]
  },
  {
   "cell_type": "code",
   "execution_count": 5,
   "id": "2dd3ee6b",
   "metadata": {},
   "outputs": [],
   "source": [
    "body = {\n",
    "    'username': 'User1',\n",
    "    'uuid': 'random_uuid',\n",
    "    'asset_name': 'name',\n",
    "    'asset_type': 'Dataset',\n",
    "    'version_id': 'v1.2'\n",
    "}\n",
    "\n",
    "r = requests.post('http://localhost:8080/create_asset', json=body, headers=headers)"
   ]
  },
  {
   "cell_type": "code",
   "execution_count": 7,
   "id": "a65915ee",
   "metadata": {},
   "outputs": [
    {
     "data": {
      "text/plain": [
       "'Creation of the asset successfully documented.'"
      ]
     },
     "execution_count": 7,
     "metadata": {},
     "output_type": "execute_result"
    }
   ],
   "source": [
    "r.text"
   ]
  },
  {
   "cell_type": "code",
   "execution_count": 43,
   "id": "9b86bc0d",
   "metadata": {},
   "outputs": [],
   "source": [
    "body = {\n",
    "    'username': 'User1',\n",
    "    'uuid': 'random_uuid',\n",
    "    'version_id': 'v1.1',\n",
    "    'version_id_prev': 'v1.0'\n",
    "}\n",
    "\n",
    "r = requests.post('http://localhost:8080/update_asset', json=body, headers=headers)"
   ]
  },
  {
   "cell_type": "code",
   "execution_count": 44,
   "id": "bdf4761c",
   "metadata": {},
   "outputs": [
    {
     "data": {
      "text/plain": [
       "'{\\n  \"message\": \"Asset cannot be updated, because the previous version does not exist.\", \\n  \"origin\": \"Provenance Engine Backend\", \\n  \"status_code\": 412\\n}\\n'"
      ]
     },
     "execution_count": 44,
     "metadata": {},
     "output_type": "execute_result"
    }
   ],
   "source": [
    "r.text"
   ]
  },
  {
   "cell_type": "code",
   "execution_count": 48,
   "id": "6fd4922b",
   "metadata": {},
   "outputs": [],
   "source": [
    "body = {\n",
    "    'username': 'User1',\n",
    "    'uuid': '123abc',\n",
    "    'version_id': 'v1.2',\n",
    "    'version_id_prev': 'v1.0'\n",
    "}\n",
    "\n",
    "r = requests.post('http://localhost:8080/update_asset', json=body, headers=headers)"
   ]
  },
  {
   "cell_type": "code",
   "execution_count": 49,
   "id": "0b5b7ec6",
   "metadata": {},
   "outputs": [
    {
     "data": {
      "text/plain": [
       "'{\\n  \"message\": \"The shape of the provided arguments is faulty!\", \\n  \"origin\": \"Provenance Engine Backend\", \\n  \"status_code\": 400\\n}\\n'"
      ]
     },
     "execution_count": 49,
     "metadata": {},
     "output_type": "execute_result"
    }
   ],
   "source": [
    "r.text"
   ]
  },
  {
   "cell_type": "code",
   "execution_count": 85,
   "id": "76e4291f",
   "metadata": {},
   "outputs": [],
   "source": [
    "body = {\n",
    "    'username': 'User1',\n",
    "    'uuid': 'random_uuid',\n",
    "    'version_id': 'v1.1'\n",
    "}\n",
    "\n",
    "r = requests.post('http://localhost:8080/read_asset', json=body, headers=headers)"
   ]
  },
  {
   "cell_type": "code",
   "execution_count": 86,
   "id": "166d6bb3",
   "metadata": {},
   "outputs": [
    {
     "name": "stdout",
     "output_type": "stream",
     "text": [
      "{\n",
      "  \"message\": \"Asset with specified UUID does not exist and cannot be read.\", \n",
      "  \"origin\": \"Provenance Engine Backend\", \n",
      "  \"status_code\": 412\n",
      "}\n",
      "\n"
     ]
    }
   ],
   "source": [
    "for line in r.text.split('\\n'):\n",
    "    print(line)"
   ]
  },
  {
   "cell_type": "code",
   "execution_count": 98,
   "id": "135c0ed4",
   "metadata": {},
   "outputs": [],
   "source": [
    "body = {\n",
    "    'uuid': '123abc',       \n",
    "}\n",
    "\n",
    "r = requests.get('http://localhost:8080/get_asset_family_tree', params=body, headers=headers)"
   ]
  },
  {
   "cell_type": "code",
   "execution_count": 99,
   "id": "bd22cfe5",
   "metadata": {},
   "outputs": [
    {
     "data": {
      "text/plain": [
       "'{\\n  \"e3444ef3-cc01-4785-8042-51c7d7f3143b\": {\\n    \"v1.2\": {\\n      \"asset_name\": \"name\", \\n      \"by\": \"User1\", \\n      \"derived_from\": \"v1.0\", \\n      \"operation_description\": \"update\", \\n      \"timestamp\": \"2023-02-16 13:30:23\"\\n    }\\n  }, \\n  \"f09b5ce6-18ca-45cb-9383-2dff0c1eced1\": {\\n    \"v1.0\": {\\n      \"asset_name\": \"random_name\", \\n      \"by\": \"User1\", \\n      \"derived_from\": null, \\n      \"operation_description\": \"create\", \\n      \"timestamp\": \"2023-02-16 09:38:59\"\\n    }, \\n    \"v1.1\": {\\n      \"asset_name\": \"random_name\", \\n      \"by\": \"User1\", \\n      \"derived_from\": \"v1.0\", \\n      \"operation_description\": \"update\", \\n      \"timestamp\": \"2023-02-16 09:54:12\"\\n    }\\n  }\\n}\\n'"
      ]
     },
     "execution_count": 99,
     "metadata": {},
     "output_type": "execute_result"
    }
   ],
   "source": [
    "r.text"
   ]
  },
  {
   "cell_type": "code",
   "execution_count": 100,
   "id": "ab097171",
   "metadata": {},
   "outputs": [
    {
     "data": {
      "text/plain": [
       "{'e3444ef3-cc01-4785-8042-51c7d7f3143b': {'v1.2': {'asset_name': 'name',\n",
       "   'by': 'User1',\n",
       "   'derived_from': 'v1.0',\n",
       "   'operation_description': 'update',\n",
       "   'timestamp': '2023-02-16 13:30:23'}},\n",
       " 'f09b5ce6-18ca-45cb-9383-2dff0c1eced1': {'v1.0': {'asset_name': 'random_name',\n",
       "   'by': 'User1',\n",
       "   'derived_from': None,\n",
       "   'operation_description': 'create',\n",
       "   'timestamp': '2023-02-16 09:38:59'},\n",
       "  'v1.1': {'asset_name': 'random_name',\n",
       "   'by': 'User1',\n",
       "   'derived_from': 'v1.0',\n",
       "   'operation_description': 'update',\n",
       "   'timestamp': '2023-02-16 09:54:12'}}}"
      ]
     },
     "execution_count": 100,
     "metadata": {},
     "output_type": "execute_result"
    }
   ],
   "source": [
    "pedigree = r.json()\n",
    "pedigree"
   ]
  },
  {
   "cell_type": "code",
   "execution_count": 106,
   "id": "99879baa",
   "metadata": {},
   "outputs": [],
   "source": [
    "body = {\n",
    "    'uuid': '123abc'      \n",
    "}\n",
    "\n",
    "r = requests.get('http://localhost:8080/get_asset_history', params=body, headers=headers)"
   ]
  },
  {
   "cell_type": "code",
   "execution_count": 107,
   "id": "33a8ad92",
   "metadata": {},
   "outputs": [
    {
     "data": {
      "text/plain": [
       "{'123abc': [{'by': 'User1',\n",
       "   'operation_description': 'create',\n",
       "   'timestamp': '2023-02-16 09:38:59',\n",
       "   'version': 'v1.0'},\n",
       "  {'by': 'User1',\n",
       "   'operation_description': 'read',\n",
       "   'timestamp': '2023-02-16 09:52:18',\n",
       "   'version': 'v1.0'},\n",
       "  {'by': 'User1',\n",
       "   'from_version': 'v1.0',\n",
       "   'operation_description': 'update',\n",
       "   'timestamp': '2023-02-16 09:54:12',\n",
       "   'version': 'v1.1'},\n",
       "  {'by': 'User1',\n",
       "   'operation_description': 'read',\n",
       "   'timestamp': '2023-02-16 13:03:24',\n",
       "   'version': 'v1.1'},\n",
       "  {'by': 'User1',\n",
       "   'from_version': 'v1.0',\n",
       "   'operation_description': 'update',\n",
       "   'timestamp': '2023-02-16 13:30:23',\n",
       "   'version': 'v1.2'}]}"
      ]
     },
     "execution_count": 107,
     "metadata": {},
     "output_type": "execute_result"
    }
   ],
   "source": [
    "r.json()"
   ]
  },
  {
   "cell_type": "code",
   "execution_count": 108,
   "id": "50363cb6",
   "metadata": {},
   "outputs": [],
   "source": [
    "body = {\n",
    "    'uuid': 'random_uuid'      \n",
    "}\n",
    "\n",
    "r = requests.get('http://localhost:8080/get_asset_status', params=body, headers=headers)"
   ]
  },
  {
   "cell_type": "code",
   "execution_count": 109,
   "id": "73aaef19",
   "metadata": {},
   "outputs": [
    {
     "data": {
      "text/plain": [
       "{'random_uuid': {'by': 'User1',\n",
       "  'operation_description': 'create',\n",
       "  'timestamp': '2023-02-16 09:20:20',\n",
       "  'version': 'v1.2'}}"
      ]
     },
     "execution_count": 109,
     "metadata": {},
     "output_type": "execute_result"
    }
   ],
   "source": [
    "r.json()"
   ]
  },
  {
   "cell_type": "code",
   "execution_count": 12,
   "id": "dcc30fdb",
   "metadata": {},
   "outputs": [],
   "source": [
    "body = {\n",
    "    'username': 'User1'      \n",
    "}\n",
    "\n",
    "r = requests.get('http://localhost:8080/get_user_history', params=body, cookies=cookies)"
   ]
  },
  {
   "cell_type": "code",
   "execution_count": 13,
   "id": "38c19bc3",
   "metadata": {},
   "outputs": [
    {
     "name": "stdout",
     "output_type": "stream",
     "text": [
      "{\n",
      "  \"User1\": [\n",
      "    {\n",
      "      \"asset_name\": \"name\", \n",
      "      \"asset_uuid\": \"random_uuid\", \n",
      "      \"operation_description\": \"create\", \n",
      "      \"timestamp\": \"2023-02-16 09:20:20\", \n",
      "      \"version\": \"v1.2\"\n",
      "    }, \n",
      "    {\n",
      "      \"asset_name\": \"random_name\", \n",
      "      \"asset_uuid\": \"123abc\", \n",
      "      \"operation_description\": \"create\", \n",
      "      \"timestamp\": \"2023-02-16 09:38:59\", \n",
      "      \"version\": \"v1.0\"\n",
      "    }, \n",
      "    {\n",
      "      \"asset_name\": \"random_name\", \n",
      "      \"asset_uuid\": \"123abc\", \n",
      "      \"operation_description\": \"read\", \n",
      "      \"timestamp\": \"2023-02-16 09:52:18\", \n",
      "      \"version\": \"v1.0\"\n",
      "    }, \n",
      "    {\n",
      "      \"asset_name\": \"random_name\", \n",
      "      \"asset_uuid\": \"123abc\", \n",
      "      \"from_version\": \"v1.0\", \n",
      "      \"operation_description\": \"update\", \n",
      "      \"timestamp\": \"2023-02-16 09:54:12\", \n",
      "      \"version\": \"v1.1\"\n",
      "    }, \n",
      "    {\n",
      "      \"asset_name\": \"name\", \n",
      "      \"asset_uuid\": \"123abc\", \n",
      "      \"operation_description\": \"read\", \n",
      "      \"timestamp\": \"2023-02-16 13:03:24\", \n",
      "      \"version\": \"v1.1\"\n",
      "    }, \n",
      "    {\n",
      "      \"asset_name\": \"name\", \n",
      "      \"asset_uuid\": \"123abc\", \n",
      "      \"from_version\": \"v1.0\", \n",
      "      \"operation_description\": \"update\", \n",
      "      \"timestamp\": \"2023-02-16 13:30:23\", \n",
      "      \"version\": \"v1.2\"\n",
      "    }\n",
      "  ]\n",
      "}\n",
      "\n"
     ]
    }
   ],
   "source": [
    "for line in r.text.split('\\n'):\n",
    "    print(line)"
   ]
  },
  {
   "cell_type": "code",
   "execution_count": 330,
   "id": "da8c6155",
   "metadata": {},
   "outputs": [],
   "source": [
    "body = {\n",
    "    'username': 'User1',\n",
    "    'uuid': 'random_uuid',\n",
    "}\n",
    "\n",
    "r = requests.post('http://localhost:8080/delete_asset', json=body, cookies=cookies)"
   ]
  },
  {
   "cell_type": "code",
   "execution_count": 331,
   "id": "ba89d060",
   "metadata": {},
   "outputs": [
    {
     "data": {
      "text/plain": [
       "'Asset cannot be deleted, because it already was deleted.'"
      ]
     },
     "execution_count": 331,
     "metadata": {},
     "output_type": "execute_result"
    }
   ],
   "source": [
    "r.text"
   ]
  },
  {
   "cell_type": "code",
   "execution_count": 15,
   "id": "f66aac95",
   "metadata": {},
   "outputs": [],
   "source": [
    "body = {\n",
    "    'uuid': '123abc',\n",
    "    'lineage_id': 'e3444ef3-cc01-4785-8042-51c7d7f3143b'\n",
    "}\n",
    "\n",
    "r = requests.get('http://localhost:8080/get_asset_lineage', params=body, cookies=cookies)"
   ]
  },
  {
   "cell_type": "code",
   "execution_count": 17,
   "id": "25bceefb",
   "metadata": {},
   "outputs": [
    {
     "data": {
      "text/plain": [
       "{'v1.2': {'asset_name': 'name',\n",
       "  'by': 'User1',\n",
       "  'derived_from': 'v1.0',\n",
       "  'operation_description': 'update',\n",
       "  'timestamp': '2023-02-16 13:30:23'}}"
      ]
     },
     "execution_count": 17,
     "metadata": {},
     "output_type": "execute_result"
    }
   ],
   "source": [
    "r.json()"
   ]
  },
  {
   "cell_type": "code",
   "execution_count": 40,
   "id": "c5ceb965",
   "metadata": {},
   "outputs": [],
   "source": [
    "def calculate_panel_position(lineage_counter, version_counter) -> dict:\n",
    "    if lineage_counter==0 and version_counter==0:\n",
    "        x = 250\n",
    "        y = 5\n",
    "    else:\n",
    "        x = 100 + lineage_counter*300\n",
    "        y = version_counter*100\n",
    "        \n",
    "    return {\n",
    "        'x':x,\n",
    "        'y':y\n",
    "    }"
   ]
  },
  {
   "cell_type": "code",
   "execution_count": 58,
   "id": "8db35c92",
   "metadata": {},
   "outputs": [
    {
     "name": "stdout",
     "output_type": "stream",
     "text": [
      "{'createdAt': '2023-01-30 09:11:54', 'createdByOperation': 'create', 'createdByUser': 'User1', 'derivedFrom': {}, 'name': 'name'}\n",
      "{'createdAt': '2023-01-30 09:12:46', 'createdByOperation': 'update', 'createdByUser': 'User1', 'derivedFrom': {'version': 'v1.0'}, 'name': 'name'}\n",
      "{'createdAt': '2023-01-31 15:34:27', 'createdByOperation': 'update', 'createdByUser': 'User1', 'derivedFrom': {'version': 'v1.1'}, 'name': 'name'}\n",
      "{'createdAt': '2023-01-31 15:34:51', 'createdByOperation': 'update', 'createdByUser': 'User1', 'derivedFrom': {'version': 'v1.0'}, 'name': 'name'}\n"
     ]
    }
   ],
   "source": [
    "nodes = []\n",
    "edges = []\n",
    "lineage_counter = 0\n",
    "version_counter = 0\n",
    "for lineage_id, lineage_ in pedigree.items():\n",
    "    for version, details in lineage_.items():\n",
    "        print(details)\n",
    "        node = {\n",
    "            'id':version,\n",
    "            'label': version,\n",
    "            'position': calculate_panel_position(lineage_counter, version_counter)\n",
    "        }\n",
    "        nodes.append(node)\n",
    "        if lineage_counter==0 and version_counter==0:\n",
    "            node['type'] = 'input'\n",
    "            \n",
    "        try:\n",
    "            source = details['derivedFrom']['version']\n",
    "            user = details['createdByUser']\n",
    "            timestamp = details['createdAt']\n",
    "            operation = details['createdByOperation']\n",
    "            edge = {\n",
    "                'id': source + '-' + version,\n",
    "                'source': source,\n",
    "                'target': version,\n",
    "                'label': operation + ' - ' + user + ' - ' + timestamp\n",
    "            }\n",
    "            edges.append(edge)\n",
    "        except KeyError:\n",
    "            pass\n",
    "        version_counter += 1\n",
    "    version_counter = 1\n",
    "    lineage_counter += 1"
   ]
  },
  {
   "cell_type": "code",
   "execution_count": 5,
   "id": "911a7f50",
   "metadata": {},
   "outputs": [
    {
     "data": {
      "text/plain": [
       "{'4ae05516-6eb0-4c1c-a17a-8390094ecf1c': {'v1.0': {'createdAt': '2023-01-30 09:11:54',\n",
       "   'createdByOperation': 'create',\n",
       "   'createdByUser': 'User1',\n",
       "   'derivedFrom': {},\n",
       "   'name': 'name'},\n",
       "  'v1.1': {'createdAt': '2023-01-30 09:12:46',\n",
       "   'createdByOperation': 'update',\n",
       "   'createdByUser': 'User1',\n",
       "   'derivedFrom': {'version': 'v1.0'},\n",
       "   'name': 'name'},\n",
       "  'v1.2': {'createdAt': '2023-01-31 15:34:27',\n",
       "   'createdByOperation': 'update',\n",
       "   'createdByUser': 'User1',\n",
       "   'derivedFrom': {'version': 'v1.1'},\n",
       "   'name': 'name'}},\n",
       " '887d865e-38ef-407d-ad03-a7adccb02b4c': {'v1.3': {'createdAt': '2023-01-31 15:34:51',\n",
       "   'createdByOperation': 'update',\n",
       "   'createdByUser': 'User1',\n",
       "   'derivedFrom': {'version': 'v1.0'},\n",
       "   'name': 'name'}}}"
      ]
     },
     "execution_count": 5,
     "metadata": {},
     "output_type": "execute_result"
    }
   ],
   "source": [
    "pedigree"
   ]
  },
  {
   "cell_type": "code",
   "execution_count": 60,
   "id": "899b71cc",
   "metadata": {},
   "outputs": [
    {
     "data": {
      "text/plain": [
       "[{'id': 'v1.0-v1.1',\n",
       "  'source': 'v1.0',\n",
       "  'target': 'v1.1',\n",
       "  'label': 'update - User1 - 2023-01-30 09:12:46'},\n",
       " {'id': 'v1.1-v1.2',\n",
       "  'source': 'v1.1',\n",
       "  'target': 'v1.2',\n",
       "  'label': 'update - User1 - 2023-01-31 15:34:27'},\n",
       " {'id': 'v1.0-v1.3',\n",
       "  'source': 'v1.0',\n",
       "  'target': 'v1.3',\n",
       "  'label': 'update - User1 - 2023-01-31 15:34:51'}]"
      ]
     },
     "execution_count": 60,
     "metadata": {},
     "output_type": "execute_result"
    }
   ],
   "source": [
    "edges"
   ]
  },
  {
   "cell_type": "code",
   "execution_count": 14,
   "id": "11545204",
   "metadata": {},
   "outputs": [],
   "source": [
    "import re\n",
    "\n",
    "uuid = 'random_uuid'\n",
    "version_id = 'v1.2'\n",
    "\n",
    "query ='''\n",
    "PREFIX prov:<http://www.w3.org/ns/prov#>\n",
    "PREFIX adms:<http://www.w3.org/TR/vocab-adms/>\n",
    "PREFIX dct: <http://purl.org/dc/terms/>\n",
    "PREFIX owl: <https://www.w3.org/TR/owl-ref/#>\n",
    "PREFIX foaf: <http://xmlns.com/foaf/0.1/>\n",
    "\n",
    "SELECT ?name ?type\n",
    "    FROM <xmanaiGraph:v3> \n",
    "    {\n",
    "\t?d a prov:Entity;\n",
    "        %2;\n",
    "        dct:title ?name;\n",
    "        rdf:type ?type.\n",
    "\n",
    "\t\t\t}\n",
    "    '''\n",
    "\n",
    "query = re.sub(r'%1', 'owl:versionInfo \"{}\"^^<http://www.w3.org/2001/XMLSchema#string>'.format(version_id), query)\n",
    "query = re.sub(r'%2', 'dct:identifier \"{}\"^^<http://www.w3.org/2001/XMLSchema#string>'.format(uuid), query)       \n"
   ]
  },
  {
   "cell_type": "code",
   "execution_count": 15,
   "id": "2ebaa92f",
   "metadata": {},
   "outputs": [
    {
     "name": "stdout",
     "output_type": "stream",
     "text": [
      "\n",
      "PREFIX prov:<http://www.w3.org/ns/prov#>\n",
      "PREFIX adms:<http://www.w3.org/TR/vocab-adms/>\n",
      "PREFIX dct: <http://purl.org/dc/terms/>\n",
      "PREFIX owl: <https://www.w3.org/TR/owl-ref/#>\n",
      "PREFIX foaf: <http://xmlns.com/foaf/0.1/>\n",
      "\n",
      "SELECT ?name ?type\n",
      "    FROM <xmanaiGraph:v3> \n",
      "    {\n",
      "\t?d a prov:Entity;\n",
      "        dct:identifier \"random_uuid\"^^<http://www.w3.org/2001/XMLSchema#string>;\n",
      "        dct:title ?name;\n",
      "        rdf:type ?type.\n",
      "\n",
      "\t\t\t}\n",
      "    \n"
     ]
    }
   ],
   "source": [
    "print(query)"
   ]
  },
  {
   "cell_type": "code",
   "execution_count": 16,
   "id": "d34fa564",
   "metadata": {},
   "outputs": [],
   "source": [
    "sparql.setQuery(query)"
   ]
  },
  {
   "cell_type": "code",
   "execution_count": 17,
   "id": "f953233c",
   "metadata": {},
   "outputs": [],
   "source": [
    "ret = sparql.queryAndConvert()"
   ]
  },
  {
   "cell_type": "code",
   "execution_count": 34,
   "id": "3231452c",
   "metadata": {},
   "outputs": [
    {
     "data": {
      "text/plain": [
       "'Dataset'"
      ]
     },
     "execution_count": 34,
     "metadata": {},
     "output_type": "execute_result"
    }
   ],
   "source": [
    "ret['results']['bindings'][-1:][0]['name']['value']\n",
    "ret['results']['bindings'][-1:][0]['type']['value']"
   ]
  },
  {
   "cell_type": "code",
   "execution_count": 214,
   "id": "e82a2223",
   "metadata": {},
   "outputs": [
    {
     "name": "stdout",
     "output_type": "stream",
     "text": [
      "read\n",
      "2023-02-15 10:52:19\n",
      "random_uuid\n",
      "name\n",
      "v1.1\n",
      "v1.0 \n",
      "\n",
      "read\n",
      "2023-02-15 10:44:48\n",
      "random_uuid\n",
      "name\n",
      "v1.1\n",
      "v1.0 \n",
      "\n",
      "update\n",
      "2023-02-15 10:44:24\n",
      "random_uuid\n",
      "name\n",
      "v1.2\n",
      "v1.0 \n",
      "\n",
      "update\n",
      "2023-02-15 10:44:04\n",
      "random_uuid\n",
      "name\n",
      "v1.1\n",
      "v1.0 \n",
      "\n",
      "read\n",
      "2023-02-15 10:44:35\n",
      "random_uuid\n",
      "name\n",
      "v1.1\n",
      "v1.0 \n",
      "\n",
      "update\n",
      "2023-02-15 10:49:55\n",
      "random_uuid\n",
      "name\n",
      "v1.3\n",
      "v1.2 \n",
      "\n",
      "update\n",
      "2023-02-15 10:52:18\n",
      "random_uuid\n",
      "name\n",
      "v1.4\n",
      "v1.3 \n",
      "\n",
      "create\n",
      "2023-02-15 10:43:55\n",
      "random_uuid\n",
      "name\n",
      "v1.0\n",
      "\n",
      "\n"
     ]
    }
   ],
   "source": [
    "for result in ret['results']['bindings']:\n",
    "    print(result['operationDescription']['value'])\n",
    "    print(result['timestamp']['value'])\n",
    "    print(result['assetUUID']['value'])\n",
    "    print(result['assetTitle']['value'])\n",
    "    print(result['currentVersion']['value'])\n",
    "    try:\n",
    "        print(result['previousVersion']['value'], '\\n')\n",
    "    except KeyError:\n",
    "        print('\\n')"
   ]
  },
  {
   "cell_type": "code",
   "execution_count": 218,
   "id": "c0884776",
   "metadata": {},
   "outputs": [],
   "source": [
    "history = []\n",
    "for object_ in ret['results']['bindings']:\n",
    "    entry = {\n",
    "            'description': object_['operationDescription']['value'],\n",
    "            'asset_uuid': object_['assetUUID']['value'],\n",
    "            'asset_name': object_['assetTitle']['value'],\n",
    "            'timestamp':object_['timestamp']['value']\n",
    "        } \n",
    "    if entry['description'] == 'update':\n",
    "        entry['from_version'] = object_['previousVersion']['value']\n",
    "        entry['to_version'] = object_['currentVersion']['value']\n",
    "    elif entry['description'] == 'read':\n",
    "        entry['version'] = object_['currentVersion']['value']\n",
    "    history.append(entry)\n",
    "\n",
    "timestamps = [time.mktime(datetime.strptime(entry['timestamp'], '%Y-%m-%d %H:%M:%S').timetuple()) for entry in history]\n",
    "chronology = np.argsort(timestamps)\n",
    "history = np.array(history)[chronology].tolist()\n",
    "\n",
    "\n",
    "\n",
    "        "
   ]
  },
  {
   "cell_type": "code",
   "execution_count": 219,
   "id": "cb9f80eb",
   "metadata": {},
   "outputs": [
    {
     "data": {
      "text/plain": [
       "[{'description': 'create',\n",
       "  'asset_uuid': 'random_uuid',\n",
       "  'asset_name': 'name',\n",
       "  'timestamp': '2023-02-15 10:43:55'},\n",
       " {'description': 'update',\n",
       "  'asset_uuid': 'random_uuid',\n",
       "  'asset_name': 'name',\n",
       "  'timestamp': '2023-02-15 10:44:04',\n",
       "  'from': 'v1.0',\n",
       "  'to': 'v1.1'},\n",
       " {'description': 'update',\n",
       "  'asset_uuid': 'random_uuid',\n",
       "  'asset_name': 'name',\n",
       "  'timestamp': '2023-02-15 10:44:24',\n",
       "  'from': 'v1.0',\n",
       "  'to': 'v1.2'},\n",
       " {'description': 'read',\n",
       "  'asset_uuid': 'random_uuid',\n",
       "  'asset_name': 'name',\n",
       "  'timestamp': '2023-02-15 10:44:35',\n",
       "  'version': 'v1.1'},\n",
       " {'description': 'read',\n",
       "  'asset_uuid': 'random_uuid',\n",
       "  'asset_name': 'name',\n",
       "  'timestamp': '2023-02-15 10:44:48',\n",
       "  'version': 'v1.1'},\n",
       " {'description': 'update',\n",
       "  'asset_uuid': 'random_uuid',\n",
       "  'asset_name': 'name',\n",
       "  'timestamp': '2023-02-15 10:49:55',\n",
       "  'from': 'v1.2',\n",
       "  'to': 'v1.3'},\n",
       " {'description': 'update',\n",
       "  'asset_uuid': 'random_uuid',\n",
       "  'asset_name': 'name',\n",
       "  'timestamp': '2023-02-15 10:52:18',\n",
       "  'from': 'v1.3',\n",
       "  'to': 'v1.4'},\n",
       " {'description': 'read',\n",
       "  'asset_uuid': 'random_uuid',\n",
       "  'asset_name': 'name',\n",
       "  'timestamp': '2023-02-15 10:52:19',\n",
       "  'version': 'v1.1'}]"
      ]
     },
     "execution_count": 219,
     "metadata": {},
     "output_type": "execute_result"
    }
   ],
   "source": [
    "history"
   ]
  },
  {
   "cell_type": "code",
   "execution_count": null,
   "id": "fdf58875",
   "metadata": {},
   "outputs": [],
   "source": []
  }
 ],
 "metadata": {
  "kernelspec": {
   "display_name": "Python 3",
   "language": "python",
   "name": "python3"
  },
  "language_info": {
   "codemirror_mode": {
    "name": "ipython",
    "version": 3
   },
   "file_extension": ".py",
   "mimetype": "text/x-python",
   "name": "python",
   "nbconvert_exporter": "python",
   "pygments_lexer": "ipython3",
   "version": "3.8.8"
  }
 },
 "nbformat": 4,
 "nbformat_minor": 5
}
