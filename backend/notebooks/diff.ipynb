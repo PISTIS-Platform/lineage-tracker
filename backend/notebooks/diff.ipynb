{
 "cells": [
  {
   "cell_type": "markdown",
   "id": "41d202c7-e4d6-4618-aeb6-e006d7a1a1b0",
   "metadata": {},
   "source": [
    "## Imports"
   ]
  },
  {
   "cell_type": "code",
   "execution_count": 1,
   "id": "9db41092-3497-4cf9-8b0e-327ed851c582",
   "metadata": {},
   "outputs": [
    {
     "name": "stdout",
     "output_type": "stream",
     "text": [
      "zsh:1: parse error near `-m'\n"
     ]
    }
   ],
   "source": [
    "# Install csv-diff specifically in the Jupyter Notebook environment\n",
    "!{sys.executable} -m pip install csv-diff"
   ]
  },
  {
   "cell_type": "code",
   "execution_count": 2,
   "id": "be2675ae-1378-4663-9dd0-5087c402162d",
   "metadata": {},
   "outputs": [
    {
     "ename": "ModuleNotFoundError",
     "evalue": "No module named 'csv_diff'",
     "output_type": "error",
     "traceback": [
      "\u001b[0;31m---------------------------------------------------------------------------\u001b[0m",
      "\u001b[0;31mModuleNotFoundError\u001b[0m                       Traceback (most recent call last)",
      "Cell \u001b[0;32mIn[2], line 3\u001b[0m\n\u001b[1;32m      1\u001b[0m \u001b[38;5;28;01mimport\u001b[39;00m \u001b[38;5;21;01mrequests\u001b[39;00m\n\u001b[1;32m      2\u001b[0m \u001b[38;5;28;01mimport\u001b[39;00m \u001b[38;5;21;01mpandas\u001b[39;00m \u001b[38;5;28;01mas\u001b[39;00m \u001b[38;5;21;01mpd\u001b[39;00m\n\u001b[0;32m----> 3\u001b[0m \u001b[38;5;28;01mfrom\u001b[39;00m \u001b[38;5;21;01mcsv_diff\u001b[39;00m \u001b[38;5;28;01mimport\u001b[39;00m load_csv, compare\n\u001b[1;32m      4\u001b[0m \u001b[38;5;28;01mfrom\u001b[39;00m \u001b[38;5;21;01mjson\u001b[39;00m \u001b[38;5;28;01mimport\u001b[39;00m dumps, loads\n",
      "\u001b[0;31mModuleNotFoundError\u001b[0m: No module named 'csv_diff'"
     ]
    }
   ],
   "source": [
    "import requests\n",
    "import pandas as pd\n",
    "from csv_diff import load_csv, compare\n",
    "from json import dumps, loads"
   ]
  },
  {
   "cell_type": "markdown",
   "id": "da8a3ca7-5860-4673-b685-988df28e2f93",
   "metadata": {},
   "source": [
    "## Import two datasets, save as csv"
   ]
  },
  {
   "cell_type": "code",
   "execution_count": 3,
   "id": "d9878cd9-4fca-4193-94f8-e68fbfb6edeb",
   "metadata": {},
   "outputs": [],
   "source": [
    "api_url = 'http://4.225.195.101/factory/data-storage/factory-data-storage-api'\n",
    "headers = {'Authorization': '3yF8!oNEzR2/bHDx*WU#F@^pLM9NQ$a6'}"
   ]
  },
  {
   "cell_type": "code",
   "execution_count": 4,
   "id": "51ef3bc1-4b5e-42b4-a7e3-e4e7a2a89cbf",
   "metadata": {},
   "outputs": [
    {
     "name": "stdout",
     "output_type": "stream",
     "text": [
      "RESPONSE:  <Response [503]>\n",
      "Response message:  <html>\n",
      "<head><title>503 Service Temporarily Unavailable</title></head>\n",
      "<body>\n",
      "<center><h1>503 Service Temporarily Unavailable</h1></center>\n",
      "<hr><center>nginx</center>\n",
      "</body>\n",
      "</html>\n",
      "\n",
      "RESPONSE:  <Response [503]>\n",
      "Response message:  <html>\n",
      "<head><title>503 Service Temporarily Unavailable</title></head>\n",
      "<body>\n",
      "<center><h1>503 Service Temporarily Unavailable</h1></center>\n",
      "<hr><center>nginx</center>\n",
      "</body>\n",
      "</html>\n",
      "\n"
     ]
    }
   ],
   "source": [
    "# Get dataset 1\n",
    "asset_uuid = \"cee0090e-ae36-47f8-bd69-c86499cb3393\"\n",
    "data = {\n",
    "\"asset_uuid\": asset_uuid\n",
    "}\n",
    "response = requests.get(f'{api_url}/api/tables/get_table', params=data, headers=headers)\n",
    "print(\"RESPONSE: \", response)\n",
    "print(\"Response message: \", response.text)\n",
    "\n",
    "response = requests.get(f'{api_url}/api/tables/get_fields', params=data, headers=headers)\n",
    "print(\"RESPONSE: \", response)\n",
    "print(\"Response message: \", response.text)"
   ]
  },
  {
   "cell_type": "code",
   "execution_count": 5,
   "id": "f66ff7b6-1016-4951-915e-35ad47d353f3",
   "metadata": {},
   "outputs": [],
   "source": [
    "dataset_1 = [\n",
    "  {\n",
    "    \"data_model\": {\n",
    "      \"columns\": [\n",
    "        {\n",
    "          \"name\": \"entry_id\",\n",
    "          \"dataType\": \"Integer\"\n",
    "        },\n",
    "        {\n",
    "          \"name\": \"age\",\n",
    "          \"dataType\": \"Integer\"\n",
    "        },\n",
    "        {\n",
    "          \"name\": \"name\",\n",
    "          \"dataType\": \"String\"\n",
    "        },\n",
    "        {\n",
    "          \"name\": \"sex\",\n",
    "          \"dataType\": \"String\"\n",
    "        },\n",
    "        {\n",
    "          \"name\": \"hiring_date\",\n",
    "          \"dataType\": \"Date'\"\n",
    "        }\n",
    "      ]\n",
    "    },\n",
    "    \"data\": {\n",
    "      \"rows\": [\n",
    "        [\n",
    "          1,\n",
    "          43,\n",
    "          \"Alice\",\n",
    "          \"f\",\n",
    "          \"2012.05.22\"\n",
    "        ],\n",
    "        [\n",
    "          2,\n",
    "          40,\n",
    "          \"Bob\",\n",
    "          \"m\",\n",
    "          \"2008.05.22\"\n",
    "        ],\n",
    "        [\n",
    "          3,\n",
    "          20,\n",
    "          \"Charlie\",\n",
    "          \"m\",\n",
    "          \"2009.04.21\"\n",
    "        ]\n",
    "      ]\n",
    "    }\n",
    "  }\n",
    "]"
   ]
  },
  {
   "cell_type": "code",
   "execution_count": 6,
   "id": "32ee8976-e4d4-4079-b432-375f62f6ecaf",
   "metadata": {},
   "outputs": [
    {
     "name": "stdout",
     "output_type": "stream",
     "text": [
      "RESPONSE:  <Response [503]>\n"
     ]
    },
    {
     "ename": "NameError",
     "evalue": "name 'loads' is not defined",
     "output_type": "error",
     "traceback": [
      "\u001b[0;31m---------------------------------------------------------------------------\u001b[0m",
      "\u001b[0;31mNameError\u001b[0m                                 Traceback (most recent call last)",
      "Cell \u001b[0;32mIn[6], line 8\u001b[0m\n\u001b[1;32m      6\u001b[0m response \u001b[38;5;241m=\u001b[39m requests\u001b[38;5;241m.\u001b[39mget(\u001b[38;5;124mf\u001b[39m\u001b[38;5;124m'\u001b[39m\u001b[38;5;132;01m{\u001b[39;00mapi_url\u001b[38;5;132;01m}\u001b[39;00m\u001b[38;5;124m/api/tables/get_table\u001b[39m\u001b[38;5;124m'\u001b[39m, params\u001b[38;5;241m=\u001b[39mdata, headers\u001b[38;5;241m=\u001b[39mheaders)\n\u001b[1;32m      7\u001b[0m \u001b[38;5;28mprint\u001b[39m(\u001b[38;5;124m\"\u001b[39m\u001b[38;5;124mRESPONSE: \u001b[39m\u001b[38;5;124m\"\u001b[39m, response)\n\u001b[0;32m----> 8\u001b[0m \u001b[38;5;28mprint\u001b[39m(\u001b[38;5;124m\"\u001b[39m\u001b[38;5;124mResponse message: \u001b[39m\u001b[38;5;124m\"\u001b[39m, \u001b[43mloads\u001b[49m(response\u001b[38;5;241m.\u001b[39mtext))\n\u001b[1;32m      9\u001b[0m \u001b[38;5;28mprint\u001b[39m(\u001b[38;5;124m\"\u001b[39m\u001b[38;5;124mResponse type: \u001b[39m\u001b[38;5;124m\"\u001b[39m, \u001b[38;5;28mtype\u001b[39m(loads(response\u001b[38;5;241m.\u001b[39mtext)))\n",
      "\u001b[0;31mNameError\u001b[0m: name 'loads' is not defined"
     ]
    }
   ],
   "source": [
    "# Get dataset 2\n",
    "asset_uuid = \"ac51938f-9a2d-4216-b8d8-c7a0716e2387\"\n",
    "data = {\n",
    "\"asset_uuid\": asset_uuid\n",
    "}\n",
    "response = requests.get(f'{api_url}/api/tables/get_table', params=data, headers=headers)\n",
    "print(\"RESPONSE: \", response)\n",
    "print(\"Response message: \", loads(response.text))\n",
    "print(\"Response type: \", type(loads(response.text)))"
   ]
  },
  {
   "cell_type": "code",
   "execution_count": 7,
   "id": "f67a3ac3-6562-4b14-b666-5078bd33238a",
   "metadata": {},
   "outputs": [],
   "source": [
    "dataset_2 = [\n",
    "  {\n",
    "    \"data_model\": {\n",
    "      \"columns\": [\n",
    "        {\n",
    "          \"name\": \"entry_id\",\n",
    "          \"dataType\": \"Integer\"\n",
    "        },\n",
    "        {\n",
    "          \"name\": \"age\",\n",
    "          \"dataType\": \"Integer\"\n",
    "        },\n",
    "        {\n",
    "          \"name\": \"name\",\n",
    "          \"dataType\": \"String\"\n",
    "        },\n",
    "        {\n",
    "          \"name\": \"sex\",\n",
    "          \"dataType\": \"String\"\n",
    "        },\n",
    "        {\n",
    "          \"name\": \"hiring_date\",\n",
    "          \"dataType\": \"Date'\"\n",
    "        }\n",
    "      ]\n",
    "    },\n",
    "    \"data\": {\n",
    "      \"rows\": [\n",
    "        [\n",
    "          1,\n",
    "          42,\n",
    "          \"Bob\",\n",
    "          \"m\",\n",
    "          \"2008.05.22\"\n",
    "        ],\n",
    "        [\n",
    "          3,\n",
    "          20,\n",
    "          \"Charlie\",\n",
    "          \"m\",\n",
    "          \"2009.04.21\"\n",
    "        ],\n",
    "        [\n",
    "          4,\n",
    "          30,\n",
    "          \"Dana\",\n",
    "          \"f\",\n",
    "          \"2009.07.21\"\n",
    "        ],  \n",
    "      ]\n",
    "    }\n",
    "  }\n",
    "]"
   ]
  },
  {
   "cell_type": "markdown",
   "id": "93f250d0-d70b-4869-be4b-cec758f2df16",
   "metadata": {},
   "source": [
    "## Dataset to csv"
   ]
  },
  {
   "cell_type": "code",
   "execution_count": 10,
   "id": "2a1b2efd-fcf5-46d0-9b2d-9d49986e51bc",
   "metadata": {},
   "outputs": [],
   "source": [
    "# Convert dataset returned to csv file\n",
    "def dataset_to_csv(dataset, filename):\n",
    "    '''\n",
    "    Converts dataset to csv file\n",
    "    '''\n",
    "    # Extract column names\n",
    "    columns = [col[\"name\"] for col in dataset[0][\"data_model\"][\"columns\"]]\n",
    "    \n",
    "    # Extract rows\n",
    "    rows = dataset[0][\"data\"][\"rows\"]\n",
    "    \n",
    "    # Create a pandas DataFrame\n",
    "    df = pd.DataFrame(rows, columns=columns)\n",
    "    \n",
    "    # Write DataFrame to CSV file\n",
    "    df.to_csv(filename, index=False)"
   ]
  },
  {
   "cell_type": "code",
   "execution_count": 11,
   "id": "4ce5ad1d-802c-465e-bdde-06fc6f7b5e5d",
   "metadata": {},
   "outputs": [],
   "source": [
    "dataset_to_csv(dataset_1, \"diff_csv/dataset_1.csv\")\n",
    "dataset_to_csv(dataset_2, \"diff_csv/dataset_2.csv\")"
   ]
  },
  {
   "cell_type": "markdown",
   "id": "39558678-27a6-40b7-a1ed-09206c6265ec",
   "metadata": {},
   "source": [
    "## Diff"
   ]
  },
  {
   "cell_type": "code",
   "execution_count": 32,
   "id": "1744aaaa-234e-450e-92d4-4477dae5947d",
   "metadata": {},
   "outputs": [
    {
     "name": "stdout",
     "output_type": "stream",
     "text": [
      "DIFF:  {'added': [{'entry_id': '1', 'age': '42', 'name': 'Bob', 'sex': 'm', 'hiring_date': '2008.05.22'}], 'removed': [{'entry_id': '1', 'age': '43', 'name': 'Bob', 'sex': 'm', 'hiring_date': '2008.05.22'}], 'changed': [], 'columns_added': [], 'columns_removed': []}\n"
     ]
    }
   ],
   "source": [
    "diff = compare(\n",
    "    load_csv(open(\"diff_csv/dataset_1.csv\")),\n",
    "    load_csv(open(\"diff_csv/dataset_2.csv\"))\n",
    ")\n",
    "print(\"DIFF: \", diff)"
   ]
  },
  {
   "cell_type": "code",
   "execution_count": null,
   "id": "07ef81e3-66a1-4db2-a79d-d384c4b15a56",
   "metadata": {},
   "outputs": [],
   "source": []
  }
 ],
 "metadata": {
  "kernelspec": {
   "display_name": "Python 3 (ipykernel)",
   "language": "python",
   "name": "python3"
  },
  "language_info": {
   "codemirror_mode": {
    "name": "ipython",
    "version": 3
   },
   "file_extension": ".py",
   "mimetype": "text/x-python",
   "name": "python",
   "nbconvert_exporter": "python",
   "pygments_lexer": "ipython3",
   "version": "3.12.3"
  }
 },
 "nbformat": 4,
 "nbformat_minor": 5
}
